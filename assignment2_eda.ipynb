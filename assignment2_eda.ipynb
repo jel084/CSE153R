{
  "cells": [
    {
      "cell_type": "markdown",
      "metadata": {
        "id": "t5D7XAk87EjI"
      },
      "source": [
        "## Assignment #2 EDA"
      ]
    },
    {
      "cell_type": "markdown",
      "metadata": {
        "id": "EDQRgT2A7EjK"
      },
      "source": [
        "**Functions from HW #3:**\n",
        "\n",
        "..."
      ]
    },
    {
      "cell_type": "code",
      "execution_count": 4,
      "metadata": {
        "colab": {
          "base_uri": "https://localhost:8080/"
        },
        "collapsed": true,
        "id": "rUa5MM-n7EjL",
        "outputId": "06827b13-0162-43da-aa98-e3924472dfc5"
      },
      "outputs": [
        {
          "name": "stdout",
          "output_type": "stream",
          "text": [
            "Requirement already satisfied: miditok in /usr/local/lib/python3.11/dist-packages (3.0.5.post1)\n",
            "Requirement already satisfied: huggingface-hub>=0.16.4 in /usr/local/lib/python3.11/dist-packages (from miditok) (0.31.4)\n",
            "Requirement already satisfied: numpy>=1.19 in /usr/local/lib/python3.11/dist-packages (from miditok) (2.0.2)\n",
            "Requirement already satisfied: symusic>=0.5.0 in /usr/local/lib/python3.11/dist-packages (from miditok) (0.5.8)\n",
            "Requirement already satisfied: tokenizers>=0.13.0 in /usr/local/lib/python3.11/dist-packages (from miditok) (0.21.1)\n",
            "Requirement already satisfied: tqdm in /usr/local/lib/python3.11/dist-packages (from miditok) (4.67.1)\n",
            "Requirement already satisfied: filelock in /usr/local/lib/python3.11/dist-packages (from huggingface-hub>=0.16.4->miditok) (3.18.0)\n",
            "Requirement already satisfied: fsspec>=2023.5.0 in /usr/local/lib/python3.11/dist-packages (from huggingface-hub>=0.16.4->miditok) (2025.3.2)\n",
            "Requirement already satisfied: packaging>=20.9 in /usr/local/lib/python3.11/dist-packages (from huggingface-hub>=0.16.4->miditok) (24.2)\n",
            "Requirement already satisfied: pyyaml>=5.1 in /usr/local/lib/python3.11/dist-packages (from huggingface-hub>=0.16.4->miditok) (6.0.2)\n",
            "Requirement already satisfied: requests in /usr/local/lib/python3.11/dist-packages (from huggingface-hub>=0.16.4->miditok) (2.32.3)\n",
            "Requirement already satisfied: typing-extensions>=3.7.4.3 in /usr/local/lib/python3.11/dist-packages (from huggingface-hub>=0.16.4->miditok) (4.13.2)\n",
            "Requirement already satisfied: pySmartDL in /usr/local/lib/python3.11/dist-packages (from symusic>=0.5.0->miditok) (1.3.4)\n",
            "Requirement already satisfied: platformdirs in /usr/local/lib/python3.11/dist-packages (from symusic>=0.5.0->miditok) (4.3.8)\n",
            "Requirement already satisfied: charset-normalizer<4,>=2 in /usr/local/lib/python3.11/dist-packages (from requests->huggingface-hub>=0.16.4->miditok) (3.4.2)\n",
            "Requirement already satisfied: idna<4,>=2.5 in /usr/local/lib/python3.11/dist-packages (from requests->huggingface-hub>=0.16.4->miditok) (3.10)\n",
            "Requirement already satisfied: urllib3<3,>=1.21.1 in /usr/local/lib/python3.11/dist-packages (from requests->huggingface-hub>=0.16.4->miditok) (2.4.0)\n",
            "Requirement already satisfied: certifi>=2017.4.17 in /usr/local/lib/python3.11/dist-packages (from requests->huggingface-hub>=0.16.4->miditok) (2025.4.26)\n",
            "Requirement already satisfied: symusic in /usr/local/lib/python3.11/dist-packages (0.5.8)\n",
            "Requirement already satisfied: numpy in /usr/local/lib/python3.11/dist-packages (from symusic) (2.0.2)\n",
            "Requirement already satisfied: pySmartDL in /usr/local/lib/python3.11/dist-packages (from symusic) (1.3.4)\n",
            "Requirement already satisfied: platformdirs in /usr/local/lib/python3.11/dist-packages (from symusic) (4.3.8)\n",
            "Collecting midiutil\n",
            "  Downloading MIDIUtil-1.2.1.tar.gz (1.0 MB)\n",
            "\u001b[2K     \u001b[90m━━━━━━━━━━━━━━━━━━━━━━━━━━━━━━━━━━━━━━━━\u001b[0m \u001b[32m1.0/1.0 MB\u001b[0m \u001b[31m42.3 MB/s\u001b[0m eta \u001b[36m0:00:00\u001b[0m\n",
            "\u001b[?25h  Preparing metadata (setup.py) ... \u001b[?25l\u001b[?25hdone\n",
            "Building wheels for collected packages: midiutil\n",
            "  Building wheel for midiutil (setup.py) ... \u001b[?25l\u001b[?25hdone\n",
            "  Created wheel for midiutil: filename=MIDIUtil-1.2.1-py3-none-any.whl size=54569 sha256=23b148c695e56cf2308b143402854e085608c9b058e1ad056bcad629ee8c933a\n",
            "  Stored in directory: /root/.cache/pip/wheels/6c/42/75/fce10c67f06fe627fad8acd1fd3a004a24e07b0f077761fbbd\n",
            "Successfully built midiutil\n",
            "Installing collected packages: midiutil\n",
            "Successfully installed midiutil-1.2.1\n"
          ]
        }
      ],
      "source": [
        "# install some packages\n",
        "!pip install miditok\n",
        "!pip install symusic\n",
        "!pip install midiutil"
      ]
    },
    {
      "cell_type": "code",
      "execution_count": 7,
      "metadata": {
        "colab": {
          "base_uri": "https://localhost:8080/"
        },
        "collapsed": true,
        "id": "LpKxqa6T7EjM",
        "outputId": "388ea837-bdd2-447d-c18f-423ccd2d0449"
      },
      "outputs": [
        {
          "name": "stdout",
          "output_type": "stream",
          "text": [
            "Archive:  PDMX_subset.zip\n",
            "replace PDMX_subset/QmWCdYmueNZMNSW4sK3Dd6ogXKjV1RkaUcrmm3nd7iKZAQ.mid? [y]es, [n]o, [A]ll, [N]one, [r]ename: "
          ]
        }
      ],
      "source": [
        "# import required packages\n",
        "! unzip PDMX_subset.zip\n",
        "import random\n",
        "random.seed(42)\n",
        "from glob import glob\n",
        "from collections import defaultdict\n",
        "\n",
        "import numpy as np\n",
        "from numpy.random import choice\n",
        "\n",
        "from symusic import Score\n",
        "from miditok import REMI, TokenizerConfig\n",
        "from midiutil import MIDIFile"
      ]
    },
    {
      "cell_type": "code",
      "execution_count": 8,
      "metadata": {
        "id": "lKczFm-q_Rh5"
      },
      "outputs": [],
      "source": [
        "import matplotlib.pyplot as plt\n",
        "import seaborn as sns\n",
        "random.seed(42)\n",
        "sns.set_style(\"whitegrid\")\n",
        "plt.rcParams['figure.figsize'] = (12, 6)"
      ]
    },
    {
      "cell_type": "markdown",
      "metadata": {
        "id": "_IsbxCHM9b80"
      },
      "source": [
        "### 1. Homework Functions"
      ]
    },
    {
      "cell_type": "code",
      "execution_count": 27,
      "metadata": {
        "id": "Py6nFMqk9blG"
      },
      "outputs": [],
      "source": [
        "config = TokenizerConfig(num_velocities=1, use_chords=False, use_programs=False)\n",
        "tokenizer = REMI(config)\n",
        "midi_files = glob('PDMX_subset/*.mid')\n",
        "tokenizer.train(vocab_size=1000, files_paths=midi_files)\n",
        "\n",
        "duration2length = {\n",
        "    '0.2.8': 2, '0.4.8': 4, '1.0.8': 8,\n",
        "    '2.0.8': 16, '4.0.4': 32\n",
        "}\n",
        "\n",
        "def note_extraction(midi_file):\n",
        "    note_events = []\n",
        "    midi = Score(midi_file)\n",
        "    tokens = tokenizer(midi)[0].tokens\n",
        "    for token in tokens:\n",
        "        if 'Pitch' in token:\n",
        "            note = int(token.split('_')[1])\n",
        "            note_events.append(note)\n",
        "    return note_events\n",
        "\n",
        "def note_frequency(midi_files):\n",
        "    note_counts = defaultdict(int)\n",
        "    for midi_file in midi_files:\n",
        "        for note in note_extraction(midi_file):\n",
        "            note_counts[note] += 1\n",
        "    return note_counts\n",
        "\n",
        "def note_bigram_probability(midi_files):\n",
        "    bigrams = defaultdict(int)\n",
        "    for file in midi_files:\n",
        "        notes = note_extraction(file)\n",
        "        for n1, n2 in zip(notes[:-1], notes[1:]):\n",
        "            bigrams[(n1, n2)] += 1\n",
        "\n",
        "    transitions = defaultdict(list)\n",
        "    probabilities = defaultdict(list)\n",
        "    for (n1, n2), count in bigrams.items():\n",
        "        transitions[n1].append(n2)\n",
        "        probabilities[n1].append(count)\n",
        "\n",
        "    for n in probabilities:\n",
        "        total = sum(probabilities[n])\n",
        "        probabilities[n] = [c/total for c in probabilities[n]]\n",
        "\n",
        "    return transitions, probabilities\n",
        "\n",
        "def beat_extraction(midi_file):\n",
        "    midi = Score(midi_file)\n",
        "    tokens = tokenizer(midi)[0].tokens\n",
        "    beats = []\n",
        "    for i in range(len(tokens)):\n",
        "        if 'Position' in tokens[i] and 'Duration' in tokens[i+3]:\n",
        "            position = int(tokens[i].split('_')[1])\n",
        "            length = duration2length[tokens[i+3].split('_')[1]]\n",
        "            beats.append((position, length))\n",
        "    return beats\n",
        "\n",
        "def note_unigram_probability(midi_files):\n",
        "    note_counts = note_frequency(midi_files)\n",
        "\n",
        "    # Q2: Your code goes here\n",
        "    unigramProbabilities = {}\n",
        "    counts = sum(list(note_counts.values()))\n",
        "    for n in note_counts:\n",
        "        unigramProbabilities[n] = note_counts[n] / counts\n",
        "    return unigramProbabilities\n",
        "\n",
        "def note_bigram_perplexity(midi_file):\n",
        "    unigramProbabilities = note_unigram_probability(midi_files)\n",
        "    bigramTransitions, bigramTransitionProbabilities = note_bigram_probability(midi_files)\n",
        "\n",
        "    # Q4: Your code goes here\n",
        "    note_events = note_extraction(midi_file)\n",
        "    perplexities = [unigramProbabilities[note_events[0]]]\n",
        "    for (note1, note2) in zip(note_events[:-1], note_events[1:]):\n",
        "        index = bigramTransitions[note1].index(note2)\n",
        "        prob = bigramTransitionProbabilities[note1][index]\n",
        "        perplexities.append(prob)\n",
        "\n",
        "    assert len(perplexities) == len(note_events)\n",
        "    perplexity = np.exp(-np.sum(np.log(perplexities)) / len(note_events))\n",
        "    return perplexity\n",
        "\n",
        "def note_trigram_probability(midi_files):\n",
        "    # Q5a: Your code goes here\n",
        "    trigrams = defaultdict(int)\n",
        "    for file in midi_files:\n",
        "        note_events = note_extraction(file)\n",
        "        for (note1, note2, note3) in zip(note_events[:-2], note_events[1:-1], note_events[2:]):\n",
        "            trigrams[(note1, note2, note3)] += 1\n",
        "\n",
        "    trigramTransitions = defaultdict(list)\n",
        "    trigramTransitionProbabilities = defaultdict(list)\n",
        "\n",
        "    for t1,t2,t3 in trigrams:\n",
        "        trigramTransitions[(t1,t2)].append(t3)\n",
        "        trigramTransitionProbabilities[(t1,t2)].append(trigrams[(t1,t2,t3)])\n",
        "\n",
        "    for k in trigramTransitionProbabilities:\n",
        "        Z = sum(trigramTransitionProbabilities[k])\n",
        "        trigramTransitionProbabilities[k] = [x / Z for x in trigramTransitionProbabilities[k]]\n",
        "\n",
        "    return trigramTransitions, trigramTransitionProbabilities\n",
        "\n",
        "def note_trigram_perplexity(midi_file):\n",
        "    unigramProbabilities = note_unigram_probability(midi_files)\n",
        "    bigramTransitions, bigramTransitionProbabilities = note_bigram_probability(midi_files)\n",
        "    trigramTransitions, trigramTransitionProbabilities = note_trigram_probability(midi_files)\n",
        "\n",
        "    # Q5b: Your code goes here\n",
        "    note_events = note_extraction(midi_file)\n",
        "    perplexities = [unigramProbabilities[note_events[0]]]\n",
        "    index = bigramTransitions[note_events[0]].index(note_events[1])\n",
        "    prob = bigramTransitionProbabilities[note_events[0]][index]\n",
        "    perplexities.append(prob)\n",
        "\n",
        "    for (note1, note2, note3) in zip(note_events[:-2], note_events[1:-1], note_events[2:]):\n",
        "        index = trigramTransitions[(note1, note2)].index(note3)\n",
        "        prob = trigramTransitionProbabilities[(note1, note2)][index]\n",
        "        perplexities.append(prob)\n",
        "\n",
        "    assert len(perplexities) == len(note_events)\n",
        "    perplexity = np.exp(-np.sum(np.log(perplexities)) / len(note_events))\n",
        "    return perplexity\n",
        "\n",
        "def music_generate(length):\n",
        "    # sample notes\n",
        "    unigramProbabilities = note_unigram_probability(midi_files)\n",
        "    bigramTransitions, bigramTransitionProbabilities = note_bigram_probability(midi_files)\n",
        "    trigramTransitions, trigramTransitionProbabilities = note_trigram_probability(midi_files)\n",
        "\n",
        "    # Your code goes here ...\n",
        "    first_note = choice(list(unigramProbabilities.keys()), 1, p=list(unigramProbabilities.values())).item()\n",
        "    second_note = choice(bigramTransitions[first_note], 1, p=bigramTransitionProbabilities[first_note]).item()\n",
        "    sampled_notes = [first_note, second_note]\n",
        "    while len(sampled_notes) < length:\n",
        "        next_note = choice(trigramTransitions[(sampled_notes[-2], sampled_notes[-1])], 1,\n",
        "                            p=trigramTransitionProbabilities[(sampled_notes[-2], sampled_notes[-1])])\n",
        "        sampled_notes.append(next_note.item())\n",
        "\n",
        "    # sample beats\n",
        "    bigramBeatPosTransitions, bigramBeatPosTransitionProbabilities = beat_pos_bigram_probability(midi_files)\n",
        "    first_beat = choice(bigramBeatPosTransitions[0], 1, p=bigramBeatPosTransitionProbabilities[0]).item()\n",
        "    sampled_beats = [(0, first_beat)]\n",
        "    while len(sampled_beats) < length:\n",
        "        beat_position = sum(sampled_beats[-1]) % 32\n",
        "        beat_length = choice(bigramBeatPosTransitions[beat_position], 1,\n",
        "                        p=bigramBeatPosTransitionProbabilities[beat_position]).item()\n",
        "        sampled_beats.append((beat_position, beat_length))\n",
        "    sampled_beats = [beat[1] / 8 for beat in sampled_beats]\n",
        "\n",
        "    # save the generated music as a midi file\n",
        "    midi = MIDIFile(1)\n",
        "    track = 0\n",
        "    time = 0\n",
        "    tempo = 120\n",
        "    midi.addTempo(track, time, tempo)\n",
        "\n",
        "    current_time = 0\n",
        "    for pitch, duration in zip(sampled_notes, sampled_beats):\n",
        "        midi.addNote(track, 0, pitch, current_time, duration, 100)\n",
        "        current_time += duration\n",
        "    with open(\"q10.mid\", \"wb\") as f:\n",
        "        midi.writeFile(f)\n",
        "\n",
        "def beat_pos_bigram_probability(midi_files):\n",
        "    # Q8a: Your code goes here\n",
        "    bigramBeatPos = defaultdict(int)\n",
        "    for file in midi_files:\n",
        "        beats = beat_extraction(file)\n",
        "        for beat in beats:\n",
        "            bigramBeatPos[(beat[0], beat[1])] += 1\n",
        "\n",
        "    bigramBeatPosTransitions = defaultdict(list)\n",
        "    bigramBeatPosTransitionProbabilities = defaultdict(list)\n",
        "\n",
        "    for b1,b2 in bigramBeatPos:\n",
        "        bigramBeatPosTransitions[b1].append(b2)\n",
        "        bigramBeatPosTransitionProbabilities[b1].append(bigramBeatPos[(b1,b2)])\n",
        "\n",
        "    for k in bigramBeatPosTransitionProbabilities:\n",
        "        Z = sum(bigramBeatPosTransitionProbabilities[k])\n",
        "        bigramBeatPosTransitionProbabilities[k] = [x / Z for x in bigramBeatPosTransitionProbabilities[k]]\n",
        "\n",
        "    return bigramBeatPosTransitions, bigramBeatPosTransitionProbabilities"
      ]
    },
    {
      "cell_type": "code",
      "execution_count": 11,
      "metadata": {
        "id": "k4YcxJ9T9bhq"
      },
      "outputs": [],
      "source": [
        "def analyze_note_characteristics():\n",
        "    \"\"\"Comprehensive analysis of pitch distribution and transitions\"\"\"\n",
        "    notes = note_frequency(midi_files)\n",
        "\n",
        "    # Pitch distribution\n",
        "    plt.figure()\n",
        "    plt.bar(notes.keys(), notes.values())\n",
        "    plt.title(\"MIDI Note Frequency Distribution\")\n",
        "    plt.xlabel(\"MIDI Pitch Value\")\n",
        "    plt.ylabel(\"Count\")\n",
        "    plt.savefig(\"note_distribution.png\")\n",
        "    plt.close()\n",
        "\n",
        "    # Transition matrix\n",
        "    trans, probs = note_bigram_probability(midi_files)\n",
        "    matrix = np.zeros((128, 128))\n",
        "    for n1 in trans:\n",
        "        for n2, prob in zip(trans[n1], probs[n1]):\n",
        "            matrix[n1][n2] = prob\n",
        "\n",
        "    plt.figure()\n",
        "    sns.heatmap(matrix[48:72,48:72], cmap=\"viridis\")\n",
        "    plt.title(\"Note Transition Probabilities (C3-B3)\")\n",
        "    plt.savefig(\"note_transitions.png\")\n",
        "    plt.close()\n",
        "\n",
        "analyze_note_characteristics()"
      ]
    },
    {
      "cell_type": "code",
      "execution_count": 14,
      "metadata": {
        "id": "nJH80Rhm9bfH"
      },
      "outputs": [],
      "source": [
        "def analyze_rhythmic_patterns():\n",
        "    \"\"\"Quantify beat duration patterns and positional relationships\"\"\"\n",
        "    durations = []\n",
        "    positions = []\n",
        "\n",
        "    for f in midi_files[:100]:  # Sample subset\n",
        "        for pos, length in beat_extraction(f):\n",
        "            durations.append(length)\n",
        "            positions.append(pos)\n",
        "\n",
        "    # Duration distribution\n",
        "    plt.figure()\n",
        "    sns.histplot(durations, bins=np.arange(2,34,2), kde=True)\n",
        "    plt.title(\"Beat Duration Distribution\")\n",
        "    plt.xlabel(\"Duration Value\")\n",
        "    plt.savefig(\"duration_dist.png\")\n",
        "    plt.close()\n",
        "\n",
        "    # Position vs Duration\n",
        "    plt.figure()\n",
        "    sns.scatterplot(x=positions, y=durations, alpha=0.3)\n",
        "    plt.title(\"Position-Duration Relationship\")\n",
        "    plt.xlabel(\"Beat Position\")\n",
        "    plt.ylabel(\"Duration\")\n",
        "    plt.savefig(\"pos_dur.png\")\n",
        "    plt.close()\n",
        "analyze_rhythmic_patterns()"
      ]
    },
    {
      "cell_type": "code",
      "execution_count": 23,
      "metadata": {
        "id": "kNKcN_vVBNqw"
      },
      "outputs": [],
      "source": [
        "def evaluate_model_performance():\n",
        "    \"\"\"Comparative analysis of Markov model performance\"\"\"\n",
        "    perplexities = {'bigram': [], 'trigram': []}\n",
        "\n",
        "    for f in random.sample(midi_files, 10):\n",
        "        perplexities['bigram'].append(note_bigram_perplexity(f))\n",
        "        perplexities['trigram'].append(note_trigram_perplexity(f))\n",
        "\n",
        "    # Visualization\n",
        "    plt.figure()\n",
        "    sns.boxplot(data=[perplexities['bigram'], perplexities['trigram']])\n",
        "    plt.xticks([0,1], ['Bigram', 'Trigram'])\n",
        "    plt.title(\"Model Perplexity Comparison\")\n",
        "    plt.savefig(\"model_performance.png\")\n",
        "    plt.close()\n",
        "evaluate_model_performance()"
      ]
    },
    {
      "cell_type": "code",
      "execution_count": 28,
      "metadata": {
        "colab": {
          "base_uri": "https://localhost:8080/"
        },
        "id": "w8rvgKBx9bFV",
        "outputId": "12554ca7-a093-4fae-c9cf-70c6f85ba372"
      },
      "outputs": [
        {
          "name": "stdout",
          "output_type": "stream",
          "text": [
            "\n",
            "=== Generation Quality Report ===\n",
            "Note Range: 55-83\n",
            "Unique Notes: 26\n",
            "Bar Resets: 73 (14.6%)\n"
          ]
        }
      ],
      "source": [
        "def generate_quality_report():\n",
        "    \"\"\"Validation of generated music characteristics\"\"\"\n",
        "    music_generate(500)\n",
        "    notes = note_extraction(\"q10.mid\")\n",
        "\n",
        "    print(\"\\n=== Generation Quality Report ===\")\n",
        "    print(f\"Note Range: {min(notes)}-{max(notes)}\")\n",
        "    print(f\"Unique Notes: {len(set(notes))}\")\n",
        "\n",
        "    # Validate rhythm\n",
        "    beats = beat_extraction(\"q10.mid\")\n",
        "    positions = [b[0] for b in beats]\n",
        "    resets = sum(1 for p in positions if p == 0)\n",
        "    print(f\"Bar Resets: {resets} ({resets/len(beats):.1%})\")\n",
        "generate_quality_report()"
      ]
    },
    {
      "cell_type": "code",
      "execution_count": 29,
      "metadata": {
        "colab": {
          "base_uri": "https://localhost:8080/",
          "height": 582
        },
        "id": "uAQDcgZL9bCq",
        "outputId": "68acb584-d58d-4964-8854-6732134fbab2"
      },
      "outputs": [
        {
          "name": "stdout",
          "output_type": "stream",
          "text": [
            "Duration entropy: 1.91\n"
          ]
        },
        {
          "data": {
            "image/png": "[encoded data removed]",
            "text/plain": [
              "<Figure size 1200x600 with 1 Axes>"
            ]
          },
          "metadata": {},
          "output_type": "display_data"
        }
      ],
      "source": [
        "def analyze_note_distribution():\n",
        "    notes = note_frequency(midi_files)\n",
        "\n",
        "    # Pitch class distribution\n",
        "    pc = [n%12 for n in notes.keys()]\n",
        "    plt.hist(pc, bins=12)\n",
        "    plt.title(\"Pitch Class Distribution\")\n",
        "\n",
        "    # Note duration analysis\n",
        "    durations = [b[1] for f in midi_files for b in beat_extraction(f)]\n",
        "    print(f\"Duration entropy: {np.std(durations):.2f}\")\n",
        "analyze_note_distribution()"
      ]
    },
    {
      "cell_type": "code",
      "execution_count": 31,
      "metadata": {
        "colab": {
          "base_uri": "https://localhost:8080/"
        },
        "id": "KJ4PINHPGqTu",
        "outputId": "12ebd0cb-c8f3-45c9-bc99-7e8e46018575"
      },
      "outputs": [
        {
          "name": "stdout",
          "output_type": "stream",
          "text": [
            "Original min note: 35 | Generated: 58\n"
          ]
        }
      ],
      "source": [
        "def validate_generations():\n",
        "    music_generate(500)  # Generate sample\n",
        "    gen_notes = note_extraction(\"q10.mid\")\n",
        "\n",
        "    # Note range comparison\n",
        "    orig_min = min(note_frequency(midi_files).keys())\n",
        "    gen_min = min(gen_notes)\n",
        "    print(f\"Original min note: {orig_min} | Generated: {gen_min}\")\n",
        "\n",
        "    # Transition fidelity\n",
        "    gen_trans = defaultdict(int)\n",
        "    for n1, n2 in zip(gen_notes[:-1], gen_notes[1:]):\n",
        "        gen_trans[(n1,n2)] += 1\n",
        "\n",
        "validate_generations()"
      ]
    },
    {
      "cell_type": "code",
      "execution_count": 32,
      "metadata": {
        "colab": {
          "base_uri": "https://localhost:8080/"
        },
        "id": "syP34ACzG-yw",
        "outputId": "11aa4137-5562-4c0f-d226-095789f20d46"
      },
      "outputs": [
        {
          "name": "stdout",
          "output_type": "stream",
          "text": [
            "Mean perplexity: 9.60\n",
            "STD: 2.25\n",
            "Theoretical lower bound: -2081224.65\n"
          ]
        }
      ],
      "source": [
        "def evaluate_model_capacity():\n",
        "    perplexities = []\n",
        "    for f in random.sample(midi_files, 10):\n",
        "        ppl = note_bigram_perplexity(f)\n",
        "        perplexities.append(ppl)\n",
        "\n",
        "    print(f\"Mean perplexity: {np.mean(perplexities):.2f}\")\n",
        "    print(f\"STD: {np.std(perplexities):.2f}\")\n",
        "\n",
        "    # Compare to theoretical minimum\n",
        "    entropy = -sum(p*np.log2(p) for p in note_frequency(midi_files).values())\n",
        "    print(f\"Theoretical lower bound: {entropy:.2f}\")\n",
        "evaluate_model_capacity()"
      ]
    },
    {
      "cell_type": "code",
      "execution_count": 33,
      "metadata": {
        "colab": {
          "base_uri": "https://localhost:8080/",
          "height": 485
        },
        "id": "yFA_ir-bHXYn",
        "outputId": "29ab763e-bbb7-4df4-b2a8-2f6aea5aaad4"
      },
      "outputs": [
        {
          "name": "stdout",
          "output_type": "stream",
          "text": [
            "Measure resets: 6.25%\n"
          ]
        },
        {
          "data": {
            "image/png": "[encoded data removed]",
            "text/plain": [
              "<Figure size 1200x600 with 1 Axes>"
            ]
          },
          "metadata": {},
          "output_type": "display_data"
        }
      ],
      "source": [
        "def analyze_beat_behavior():\n",
        "    position_counts = defaultdict(int)\n",
        "    for f in midi_files:\n",
        "        beats = beat_extraction(f)\n",
        "        for pos, _ in beats:\n",
        "            position_counts[pos] += 1\n",
        "\n",
        "    # Position distribution\n",
        "    plt.bar(position_counts.keys(), position_counts.values())\n",
        "    plt.title(\"Beat Position Distribution\")\n",
        "\n",
        "    # Position reset analysis\n",
        "    resets = sum(1 for p in position_counts if p == 0)\n",
        "    print(f\"Measure resets: {resets/len(position_counts):.2%}\")\n",
        "\n",
        "analyze_beat_behavior()"
      ]
    }
  ],
  "metadata": {
    "colab": {
      "provenance": []
    },
    "kernelspec": {
      "display_name": "Python 3 (ipykernel)",
      "language": "python",
      "name": "python3"
    },
    "language_info": {
      "codemirror_mode": {
        "name": "ipython",
        "version": 3
      },
      "file_extension": ".py",
      "mimetype": "text/x-python",
      "name": "python",
      "nbconvert_exporter": "python",
      "pygments_lexer": "ipython3",
      "version": "3.11.2"
    }
  },
  "nbformat": 4,
  "nbformat_minor": 0
}
